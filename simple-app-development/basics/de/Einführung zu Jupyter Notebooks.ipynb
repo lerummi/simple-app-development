{
 "cells": [
  {
   "cell_type": "markdown",
   "id": "e1aa41ee-e17c-4f1b-b3e8-e5eba99de5e0",
   "metadata": {},
   "source": [
    "# Einführung zu Jupyter Notebooks\n",
    "\n",
    "Dieses Notebook gibt dir eine kurze Einführung zu Nutzung von Jupyter Notebooks. Du wirst lernen, was die Notebooks sind und was du alles mit ihnen machen kannst."
   ]
  },
  {
   "cell_type": "markdown",
   "id": "892d3c51-8198-4d89-a689-2c018b0ffbf7",
   "metadata": {},
   "source": [
    "## Was sind Zellen?\n",
    "\n",
    "Der Basis-Bestandteil von Jupyter Notebooks sind sogenannte **Zellen**: Fenster in denen mal Text hineinschreiben kann (wie diesen hier) oder Programmiercode wie weiter unten. Die Zellen können noch mehr doch darauf gehen wir im späteren Verlauf des Kurses ein.\n",
    "\n",
    "Wir unterscheiden: \n",
    "\n",
    "* `Markdown` Zellen: Das sind Zellen die Text beinhalten. In den nächsten Zellen findest du ausschließlich derartige Zellen. \n",
    "* `Code` Zellen: Das sind Zellen die (ausführbaren) Programmiercode enthalten. Diese sind weiter unten zu finden.\n",
    "\n",
    "Mit Hilfe des Zeichens `v` open in der Leiste kannst du zwischen `Markdown`, `Code` (und `Raw` worauf wir nicht eingeben) wechseln."
   ]
  },
  {
   "cell_type": "markdown",
   "id": "b70055c6-1e7e-4d9e-a4b7-3aad09b702cc",
   "metadata": {},
   "source": [
    "## Auswählen und Wechseln von Zellen\n",
    "\n",
    "Lass uns zunächst den Umgang mit den Notebooks lernen. Probiere die hier beschriebenen Aktionen einfach anhand der unteren Zellen aus. \n",
    "\n",
    "Das **Auswählen** einzelner Zellen ist am Einfachsten: Du kannst mit der Maus darauf klicken, um damit eine Zelle auszuwählen. Welche Zelle gerade ausgewählt ist, siehst du an einem blauen Balken auf der linken Seite neben der Zelle."
   ]
  },
  {
   "cell_type": "markdown",
   "id": "3eba2527-74c5-4b83-9088-230182e0120a",
   "metadata": {},
   "source": [
    "Das **Wechseln** von Zellen kannst du mit den Pfeiltasten `↑` (nach oben) und `↓` (nach unten) steuern."
   ]
  },
  {
   "cell_type": "markdown",
   "id": "0011386a-daff-44b7-ab22-830c913425ff",
   "metadata": {},
   "source": [
    "## Hinzufügen und Löschen von Zellen\n",
    "\n",
    "Um neue Zellen hinzuzufügen, drücke das `+` Zeichen in der obigen Leiste. Um eine bestimmte Zelle zu löschen, wähle sie mit Mausklick aus und drücke dann die `✂` in der obigen Leiste. "
   ]
  },
  {
   "cell_type": "markdown",
   "id": "9356e8bb-e2ab-4f1d-8fcb-6cc9693660dd",
   "metadata": {},
   "source": [
    "## Verändern und Ausführen von Zellen"
   ]
  },
  {
   "cell_type": "markdown",
   "id": "b74d2fb9-0c1a-450d-9100-876b524ad414",
   "metadata": {},
   "source": [
    "Natürlich möchtest du nicht nur Zelleninhalte lesen oder hin- und herspringen, sondern du möchtest neue Inhalte hinzufügen und diese ausführen. \n",
    "\n",
    "Um den Inhalt einer Zelle zu **verändern**, klicke einfach 2x mit der linken Maustaste darauf. Es erscheint dann ein blinkendes Symbol an der Stelle, an der du zu schreiben beginnst.\n",
    "\n",
    "Nun das Spannendste: Das **Ausführen** von Zellen. Ausführen meint, dass du nicht nur den Inhalt der Zelle liest, sondern etwas in die Zelle hineinschreibst. Einen Text, den du hineingeschrieben hast, möchtest du ja in der Zelle speichern und durch das Ausführen machst du das. Ausführen geht so: Oben in der Leiste siehst du ein `►` Symbol, drücke es!\n",
    "\n",
    "Schau dir den Text in der unteren Zelle an, dort steht: \n",
    "> Hallo W....\n",
    "\n",
    "Der Text hat natürlich keinen Sinn so! Bitte mach \n",
    "> Hallo Welt!\n",
    "\n",
    "daraus. \n",
    "\n",
    "--- \n",
    "Also los gehts: Doppelter linker Mausklick um zu verändern und `►` Symbol um auszuführen."
   ]
  },
  {
   "cell_type": "markdown",
   "id": "f040402c-52e7-48a2-b70a-141514327de3",
   "metadata": {},
   "source": [
    "Hallo W...."
   ]
  },
  {
   "cell_type": "markdown",
   "id": "6df7f97e-67a8-44c1-a684-76c9f03f7298",
   "metadata": {},
   "source": [
    "---\n",
    "\n",
    "Noch viel spannender ist das Ausführen von `Code`. Damit kannst du zum Beispiel Mathe-Aufgaben lösen. Schau dir die Aufgabe unten an, führe sie aus. Du kannst du Zahlen auch Verändern.\n",
    "\n",
    "---\n",
    "\n",
    "Also los gehts: Lass dir die Ergebnisse ausgeben und versuche dich an noch ein Paar anderen Mathe-Aufgaben. Doppelter linker Mausklick um zu verändern und `►` Symbol um auszuführen."
   ]
  },
  {
   "cell_type": "code",
   "execution_count": null,
   "id": "ce4aedbe-9d0f-471a-837d-eec2fb7f0550",
   "metadata": {},
   "outputs": [],
   "source": [
    "1981 + 4927"
   ]
  },
  {
   "cell_type": "code",
   "execution_count": null,
   "id": "6fc2d015-95d9-4dc1-9e67-3875747b44cf",
   "metadata": {},
   "outputs": [],
   "source": [
    "4927 - 1981"
   ]
  },
  {
   "cell_type": "code",
   "execution_count": null,
   "id": "1f07b12e-dfc6-4b1c-bb88-7b3c181b565d",
   "metadata": {},
   "outputs": [],
   "source": [
    "4927 * 715"
   ]
  },
  {
   "cell_type": "markdown",
   "id": "d6f1490b-5845-40f0-b2ec-0d7ddbe5d15c",
   "metadata": {},
   "source": [
    "---\n",
    "\n",
    "Dies war's fürs Erste. Komm gerne zu diesem Notebook zurück, wenn du vergessen haben solltest, wie der Umgang mit Zellen funktioniert."
   ]
  },
  {
   "cell_type": "code",
   "execution_count": null,
   "id": "f01b7896-3e58-4c3f-b580-a631a23f6653",
   "metadata": {},
   "outputs": [],
   "source": []
  }
 ],
 "metadata": {
  "kernelspec": {
   "display_name": "Python 3 (ipykernel)",
   "language": "python",
   "name": "python3"
  },
  "language_info": {
   "codemirror_mode": {
    "name": "ipython",
    "version": 3
   },
   "file_extension": ".py",
   "mimetype": "text/x-python",
   "name": "python",
   "nbconvert_exporter": "python",
   "pygments_lexer": "ipython3",
   "version": "3.11.6"
  }
 },
 "nbformat": 4,
 "nbformat_minor": 5
}
